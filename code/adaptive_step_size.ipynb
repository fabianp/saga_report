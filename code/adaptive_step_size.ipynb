{
 "cells": [
  {
   "cell_type": "code",
   "execution_count": null,
   "metadata": {
    "collapsed": false
   },
   "outputs": [
    {
     "name": "stdout",
     "output_type": "stream",
     "text": [
      "Populating the interactive namespace from numpy and matplotlib\n"
     ]
    }
   ],
   "source": [
    "%pylab inline\n",
    "\n",
    "plt.rcParams['figure.figsize'] = (10.0, 8.0)\n",
    "plt.rcParams['font.size'] = 30\n",
    "\n",
    "\n",
    "colors = ['#66c2a5','#fc8d62','#8da0cb','#e78ac3','#a6d854','#ffd92f']"
   ]
  },
  {
   "cell_type": "code",
   "execution_count": null,
   "metadata": {
    "collapsed": false
   },
   "outputs": [],
   "source": [
    "import numpy as np\n",
    "from scipy import sparse\n",
    "from sklearn.preprocessing import LabelBinarizer\n",
    "\n",
    "from lightning.impl.sag import SAGAClassifier, get_auto_step_size\n",
    "from lightning.impl.svrg import SVRGClassifier\n",
    "from lightning.impl.sgd_fast import Log\n",
    "\n",
    "# from sklearn.datasets import fetch_20newsgroups_vectorized\n",
    "# data = fetch_20newsgroups_vectorized()\n",
    "# X = data.data\n",
    "# y = data.target.copy()\n",
    "# # binarize\n",
    "# y[data.target <  data.target.mean()] = -1\n",
    "# y[data.target >= data.target.mean()] = -1\n",
    "\n",
    "\n",
    "from sklearn.datasets import load_svmlight_file\n",
    "X, y = load_svmlight_file('/Users/fabianpedregosa/data/async_saga/covtype.libsvm.binary.scale')\n",
    "\n",
    "alpha = 1.0 / X.shape[0]\n",
    "step_size = get_auto_step_size(X, alpha, 'log', None)\n",
    "max_iter = 20\n",
    "# step sizes are choosen as the ones that yield the fastest decrease\n",
    "\n",
    "from datetime import datetime\n",
    "coefs_saga_adaptive = [np.zeros(X.shape[1])]\n",
    "start = datetime.now()\n",
    "times_saga_adaptive = [0.]\n",
    "logloss = Log()\n",
    "def callback_adaptive(clf):\n",
    "    coefs_saga_adaptive.append(\n",
    "        clf.coef_scale_[0] * clf.coef_.ravel().copy())\n",
    "    times_saga_adaptive.append((datetime.now() - start).total_seconds())\n",
    "\n",
    "def compute_loss(coefs):\n",
    "    loss = 0.\n",
    "    for i in range(X.shape[0]):\n",
    "        pred = X[i].dot(coefs)\n",
    "        loss += logloss.loss(pred, y[i])\n",
    "    return loss / X.shape[0] + 0.5 * alpha * coefs.dot(coefs)\n",
    "\n",
    "clf_saga = SAGAClassifier(\n",
    "    loss='log', callback=callback_adaptive, eta='adaptive', max_iter=max_iter, tol=1e-132,\n",
    "    alpha=alpha, random_state=0)\n",
    "clf_saga.fit(X, y)\n",
    "loss_saga_adaptive = np.array([compute_loss(w) for w in coefs_saga_adaptive])\n",
    "print('Done SAGAClassifier')\n",
    "\n",
    "\n",
    "coefs_saga = [np.zeros(X.shape[1])]\n",
    "start = datetime.now()\n",
    "times_saga = [0.]\n",
    "def callback(clf):\n",
    "    coefs_saga.append(\n",
    "        clf.coef_scale_[0] * clf.coef_.ravel().copy())\n",
    "    times_saga.append((datetime.now() - start).total_seconds())\n",
    "\n",
    "\n",
    "clf_saga = SAGAClassifier(\n",
    "    loss='log', callback=callback, eta=step_size, max_iter=max_iter, tol=1e-132,\n",
    "    alpha=alpha, random_state=0)\n",
    "clf_saga.fit(X, y)\n",
    "loss_saga = np.array([compute_loss(w) for w in coefs_saga])\n",
    "print('Done SAGAClassifier')"
   ]
  },
  {
   "cell_type": "code",
   "execution_count": null,
   "metadata": {
    "collapsed": false
   },
   "outputs": [],
   "source": [
    "loss_saga_adaptive, loss_saga"
   ]
  },
  {
   "cell_type": "code",
   "execution_count": null,
   "metadata": {
    "collapsed": false
   },
   "outputs": [],
   "source": [
    "fmin = 0.0847302847536688\n",
    "# fmin = 0.20327841000409613\n",
    "lw=6\n",
    "plt.plot(times_saga, np.array(loss_saga) - fmin, color=colors[0], lw=lw, label='SAGA')\n",
    "plt.plot(times_saga_adaptive, np.array(loss_saga_adaptive) - fmin, color=colors[1], lw=lw, label='SAGA adaptive')\n",
    "plt.yscale('log')\n",
    "plt.grid()\n",
    "plt.xlim((0, 20.5))\n",
    "plt.ylim((1e-5, None))\n",
    "plt.legend()\n",
    "plt.xlabel('Time (in seconds)')\n",
    "plt.ylabel('Function minus optimum')\n",
    "plt.gcf().subplots_adjust(left=0.15)\n",
    "# plt.savefig('rcv1_comparison.png')\n",
    "plt.show()"
   ]
  },
  {
   "cell_type": "code",
   "execution_count": null,
   "metadata": {
    "collapsed": true
   },
   "outputs": [],
   "source": [
    "import lightning"
   ]
  },
  {
   "cell_type": "code",
   "execution_count": null,
   "metadata": {
    "collapsed": true
   },
   "outputs": [],
   "source": [
    "lightning??"
   ]
  },
  {
   "cell_type": "code",
   "execution_count": null,
   "metadata": {
    "collapsed": true
   },
   "outputs": [],
   "source": []
  }
 ],
 "metadata": {
  "kernelspec": {
   "display_name": "Python 3",
   "language": "python",
   "name": "python3"
  },
  "language_info": {
   "codemirror_mode": {
    "name": "ipython",
    "version": 3
   },
   "file_extension": ".py",
   "mimetype": "text/x-python",
   "name": "python",
   "nbconvert_exporter": "python",
   "pygments_lexer": "ipython3",
   "version": "3.5.1"
  }
 },
 "nbformat": 4,
 "nbformat_minor": 0
}
